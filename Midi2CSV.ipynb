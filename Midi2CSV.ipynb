{
  "nbformat": 4,
  "nbformat_minor": 0,
  "metadata": {
    "colab": {
      "provenance": [],
      "authorship_tag": "ABX9TyOBqMA5b8qJvI/O4a+I3mAA",
      "include_colab_link": true
    },
    "kernelspec": {
      "name": "python3",
      "display_name": "Python 3"
    },
    "language_info": {
      "name": "python"
    }
  },
  "cells": [
    {
      "cell_type": "markdown",
      "metadata": {
        "id": "view-in-github",
        "colab_type": "text"
      },
      "source": [
        "<a href=\"https://colab.research.google.com/github/Tknusel/ArduinoFlashTriggerPhotoflux/blob/main/Midi2CSV.ipynb\" target=\"_parent\"><img src=\"https://colab.research.google.com/assets/colab-badge.svg\" alt=\"Open In Colab\"/></a>"
      ]
    },
    {
      "cell_type": "code",
      "execution_count": 3,
      "metadata": {
        "colab": {
          "base_uri": "https://localhost:8080/"
        },
        "id": "W4wgPiLrSca_",
        "outputId": "a6e32ac3-5ef2-4dcf-f616-570566acb3c6"
      },
      "outputs": [
        {
          "output_type": "stream",
          "name": "stdout",
          "text": [
            "Collecting py_midicsv\n",
            "  Downloading py_midicsv-4.0.0-py3-none-any.whl (16 kB)\n",
            "Collecting rich-click<2.0.0,>=1.6.1 (from py_midicsv)\n",
            "  Downloading rich_click-1.7.1-py3-none-any.whl (32 kB)\n",
            "Requirement already satisfied: click>=7 in /usr/local/lib/python3.10/dist-packages (from rich-click<2.0.0,>=1.6.1->py_midicsv) (8.1.7)\n",
            "Requirement already satisfied: rich>=10.7.0 in /usr/local/lib/python3.10/dist-packages (from rich-click<2.0.0,>=1.6.1->py_midicsv) (13.7.0)\n",
            "Requirement already satisfied: typing-extensions in /usr/local/lib/python3.10/dist-packages (from rich-click<2.0.0,>=1.6.1->py_midicsv) (4.5.0)\n",
            "Requirement already satisfied: markdown-it-py>=2.2.0 in /usr/local/lib/python3.10/dist-packages (from rich>=10.7.0->rich-click<2.0.0,>=1.6.1->py_midicsv) (3.0.0)\n",
            "Requirement already satisfied: pygments<3.0.0,>=2.13.0 in /usr/local/lib/python3.10/dist-packages (from rich>=10.7.0->rich-click<2.0.0,>=1.6.1->py_midicsv) (2.16.1)\n",
            "Requirement already satisfied: mdurl~=0.1 in /usr/local/lib/python3.10/dist-packages (from markdown-it-py>=2.2.0->rich>=10.7.0->rich-click<2.0.0,>=1.6.1->py_midicsv) (0.1.2)\n",
            "Installing collected packages: rich-click, py_midicsv\n",
            "Successfully installed py_midicsv-4.0.0 rich-click-1.7.1\n"
          ]
        }
      ],
      "source": [
        "pip install py_midicsv"
      ]
    },
    {
      "cell_type": "code",
      "source": [
        "from google.colab import drive\n",
        "\n",
        "drive.mount('/content/gdrive/', force_remount=True)\n"
      ],
      "metadata": {
        "colab": {
          "base_uri": "https://localhost:8080/"
        },
        "id": "Yg_KvwFFSqfN",
        "outputId": "277a0803-4bac-427d-fbf4-06da051bd9f2"
      },
      "execution_count": 1,
      "outputs": [
        {
          "output_type": "stream",
          "name": "stdout",
          "text": [
            "Mounted at /content/gdrive/\n"
          ]
        }
      ]
    },
    {
      "cell_type": "code",
      "source": [
        "import py_midicsv as pm\n",
        "\n",
        "# Load the MIDI file and parse it into CSV format\n",
        "csv_string = pm.midi_to_csv(\"1week.mid\")\n",
        "\n",
        "with open(\"example_converted.csv\", \"w\") as f:\n",
        "    f.writelines(csv_string)\n",
        "\n",
        "# Parse the CSV output of the previous command back into a MIDI file\n",
        "midi_object = pm.csv_to_midi(csv_string)\n",
        "\n",
        "# Save the parsed MIDI file to disk\n",
        "with open(\"example_converted.mid\", \"wb\") as output_file:\n",
        "    midi_writer = pm.FileWriter(output_file)\n",
        "    midi_writer.write(midi_object)\n"
      ],
      "metadata": {
        "id": "YLUHLXQAT4XN"
      },
      "execution_count": 4,
      "outputs": []
    }
  ]
}